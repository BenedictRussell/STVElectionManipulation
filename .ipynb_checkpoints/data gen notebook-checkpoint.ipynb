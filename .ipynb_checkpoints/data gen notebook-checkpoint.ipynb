{
 "cells": [
  {
   "cell_type": "markdown",
   "id": "d375fbf9",
   "metadata": {},
   "source": [
    "# Data generation file\n",
    "\n",
    "**Purpose: Generate data for use in data study of STV election resilience to Sybil attacks**\n",
    "\n",
    "Premise: Based on inputs $$C$$, number of candidates and $$V$$, number of voters, randomly allocate voters to preference orders of candidates. Place candidates and voters on a political compass\n",
    "\n",
    "Methodology: Generate a (1000+c^3) size grid. Randomly place candidates, with an option to normally distribute about the origin (reflecting 'normal' political centre). Randomly place voters, with an option to normally distribute about the origin. \n",
    "\n",
    "Calculate linear distance between each voter and every candidate. Rank linear distances with shortest-first. Return candidates and rankings paired as a list of voter preferences. "
   ]
  },
  {
   "cell_type": "code",
   "execution_count": null,
   "id": "16a4598b",
   "metadata": {},
   "outputs": [],
   "source": []
  }
 ],
 "metadata": {
  "kernelspec": {
   "display_name": "Python 3 (ipykernel)",
   "language": "python",
   "name": "python3"
  },
  "language_info": {
   "codemirror_mode": {
    "name": "ipython",
    "version": 3
   },
   "file_extension": ".py",
   "mimetype": "text/x-python",
   "name": "python",
   "nbconvert_exporter": "python",
   "pygments_lexer": "ipython3",
   "version": "3.9.13"
  }
 },
 "nbformat": 4,
 "nbformat_minor": 5
}
