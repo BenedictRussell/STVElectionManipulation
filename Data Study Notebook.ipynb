{
 "cells": [
  {
   "cell_type": "markdown",
   "metadata": {},
   "source": [
    "# Notebook for data study \n",
    "\n",
    "Testing different $|C|, |K|$ and $|V|$ to check monotonicity of STV manipulability ratios with respect to these measures. "
   ]
  },
  {
   "cell_type": "markdown",
   "metadata": {},
   "source": [
    "### Generating and loading some data"
   ]
  },
  {
   "cell_type": "code",
   "execution_count": 30,
   "metadata": {},
   "outputs": [],
   "source": [
    "import spatialGeneration\n",
    "import manipulation"
   ]
  },
  {
   "cell_type": "code",
   "execution_count": 33,
   "metadata": {},
   "outputs": [
    {
     "name": "stdout",
     "output_type": "stream",
     "text": [
      "[{'C1': 1, 'C2': 5, 'C3': 2, 'C4': 3, 'C5': 4}, {'C1': 3, 'C2': 5, 'C3': 1, 'C4': 2, 'C5': 4}, {'C1': 3, 'C2': 1, 'C3': 4, 'C4': 5, 'C5': 2}, {'C1': 3, 'C2': 5, 'C3': 1, 'C4': 2, 'C5': 4}, {'C1': 3, 'C2': 2, 'C3': 4, 'C4': 5, 'C5': 1}, {'C1': 1, 'C2': 4, 'C3': 2, 'C4': 3, 'C5': 5}, {'C1': 3, 'C2': 1, 'C3': 4, 'C4': 5, 'C5': 2}, {'C1': 3, 'C2': 2, 'C3': 4, 'C4': 5, 'C5': 1}, {'C1': 3, 'C2': 1, 'C3': 4, 'C4': 5, 'C5': 2}, {'C1': 2, 'C2': 5, 'C3': 1, 'C4': 3, 'C5': 4}]\n",
      "['C1', 'C2', 'C3', 'C4', 'C5']\n"
     ]
    }
   ],
   "source": [
    "Ranking,Candidates = spatialGeneration.returnRanking(5,10)\n",
    "print(Ranking)\n",
    "print(Candidates)"
   ]
  },
  {
   "cell_type": "code",
   "execution_count": 35,
   "metadata": {},
   "outputs": [
    {
     "ename": "TypeError",
     "evalue": "setup() missing 2 required positional arguments: 'Rankings' and 'Candidates'",
     "output_type": "error",
     "traceback": [
      "\u001b[1;31m---------------------------------------------------------------------------\u001b[0m",
      "\u001b[1;31mTypeError\u001b[0m                                 Traceback (most recent call last)",
      "\u001b[1;32m<ipython-input-35-1614a6870413>\u001b[0m in \u001b[0;36m<module>\u001b[1;34m\u001b[0m\n\u001b[1;32m----> 1\u001b[1;33m \u001b[0mmanipulation\u001b[0m\u001b[1;33m.\u001b[0m\u001b[0mreturnMRRate\u001b[0m\u001b[1;33m(\u001b[0m\u001b[0mRanking\u001b[0m\u001b[1;33m,\u001b[0m\u001b[0mCandidates\u001b[0m\u001b[1;33m,\u001b[0m\u001b[1;36m10\u001b[0m\u001b[1;33m)\u001b[0m\u001b[1;33m\u001b[0m\u001b[1;33m\u001b[0m\u001b[0m\n\u001b[0m",
      "\u001b[1;32m~\\Desktop\\STVElectionManipulation\\manipulation.py\u001b[0m in \u001b[0;36mreturnMRRate\u001b[1;34m(votes, C, K)\u001b[0m\n\u001b[0;32m    153\u001b[0m         \u001b[1;32mreturn\u001b[0m \u001b[1;33m(\u001b[0m\u001b[0mmax\u001b[0m\u001b[1;33m(\u001b[0m\u001b[0mc_and_v\u001b[0m\u001b[1;33m,\u001b[0m \u001b[0mkey\u001b[0m\u001b[1;33m=\u001b[0m\u001b[0mc_and_v\u001b[0m\u001b[1;33m.\u001b[0m\u001b[0mget\u001b[0m\u001b[1;33m)\u001b[0m\u001b[1;33m)\u001b[0m\u001b[1;33m\u001b[0m\u001b[1;33m\u001b[0m\u001b[0m\n\u001b[0;32m    154\u001b[0m \u001b[1;33m\u001b[0m\u001b[0m\n\u001b[1;32m--> 155\u001b[1;33m     \u001b[0mprint\u001b[0m\u001b[1;33m(\u001b[0m\u001b[0mvotes\u001b[0m\u001b[1;33m,\u001b[0m\u001b[0mC\u001b[0m\u001b[1;33m)\u001b[0m\u001b[1;33m\u001b[0m\u001b[1;33m\u001b[0m\u001b[0m\n\u001b[0m\u001b[0;32m    156\u001b[0m     \u001b[0mcandidates_and_votes\u001b[0m\u001b[1;33m,\u001b[0m \u001b[0melimination_orders\u001b[0m\u001b[1;33m,\u001b[0m \u001b[0mvoting_array\u001b[0m\u001b[1;33m,\u001b[0m\u001b[0mcandidates\u001b[0m \u001b[1;33m=\u001b[0m \u001b[0msetup\u001b[0m\u001b[1;33m(\u001b[0m\u001b[0mvotes\u001b[0m\u001b[1;33m,\u001b[0m\u001b[0mC\u001b[0m\u001b[1;33m)\u001b[0m\u001b[1;33m\u001b[0m\u001b[1;33m\u001b[0m\u001b[0m\n\u001b[0;32m    157\u001b[0m     \u001b[0mcoalition_size\u001b[0m \u001b[1;33m=\u001b[0m \u001b[0mK\u001b[0m\u001b[1;33m\u001b[0m\u001b[1;33m\u001b[0m\u001b[0m\n",
      "\u001b[1;31mTypeError\u001b[0m: setup() missing 2 required positional arguments: 'Rankings' and 'Candidates'"
     ]
    }
   ],
   "source": [
    "manipulation.returnMRRate(Ranking,Candidates,10)"
   ]
  }
 ],
 "metadata": {
  "kernelspec": {
   "display_name": "Python 3",
   "language": "python",
   "name": "python3"
  },
  "language_info": {
   "codemirror_mode": {
    "name": "ipython",
    "version": 3
   },
   "file_extension": ".py",
   "mimetype": "text/x-python",
   "name": "python",
   "nbconvert_exporter": "python",
   "pygments_lexer": "ipython3",
   "version": "3.8.5"
  }
 },
 "nbformat": 4,
 "nbformat_minor": 4
}
