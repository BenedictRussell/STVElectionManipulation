{
 "cells": [
  {
   "cell_type": "markdown",
   "metadata": {},
   "source": [
    "# Manipulation algorithm\n",
    "This notebook will apply Algorithm 1 to a given profile of voters and candidates. A notebook format is used to provide commentary and illustrate step-by-step the process in the algorithm. "
   ]
  },
  {
   "cell_type": "code",
   "execution_count": 2,
   "metadata": {},
   "outputs": [],
   "source": [
    "#Key package imports\n",
    "from itertools import permutations\n",
    "import itertools\n",
    "import csv"
   ]
  },
  {
   "cell_type": "code",
   "execution_count": 23,
   "metadata": {},
   "outputs": [
    {
     "name": "stdout",
     "output_type": "stream",
     "text": [
      "[{'C1': '1', 'C2': '3', 'C3': '5', 'C4': '4', 'C5': '2'}, {'C1': '1', 'C2': '4', 'C3': '5', 'C4': '3', 'C5': '2'}, {'C1': '3', 'C2': '4', 'C3': '1', 'C4': '5', 'C5': '2'}, {'C1': '3', 'C2': '5', 'C3': '1', 'C4': '4', 'C5': '2'}, {'C1': '1', 'C2': '4', 'C3': '5', 'C4': '2', 'C5': '3'}, {'C1': '2', 'C2': '4', 'C3': '5', 'C4': '1', 'C5': '3'}, {'C1': '2', 'C2': '5', 'C3': '3', 'C4': '4', 'C5': '1'}, {'C1': '1', 'C2': '2', 'C3': '5', 'C4': '4', 'C5': '3'}, {'C1': '1', 'C2': '2', 'C3': '5', 'C4': '4', 'C5': '3'}, {'C1': '2', 'C2': '5', 'C3': '4', 'C4': '3', 'C5': '1'}, {'C1': '1', 'C2': '4', 'C3': '5', 'C4': '3', 'C5': '2'}, {'C1': '1', 'C2': '4', 'C3': '5', 'C4': '2', 'C5': '3'}, {'C1': '2', 'C2': '1', 'C3': '5', 'C4': '4', 'C5': '3'}, {'C1': '3', 'C2': '5', 'C3': '1', 'C4': '4', 'C5': '2'}, {'C1': '2', 'C2': '5', 'C3': '3', 'C4': '4', 'C5': '1'}, {'C1': '2', 'C2': '1', 'C3': '5', 'C4': '3', 'C5': '4'}, {'C1': '2', 'C2': '5', 'C3': '4', 'C4': '3', 'C5': '1'}, {'C1': '2', 'C2': '4', 'C3': '5', 'C4': '1', 'C5': '3'}, {'C1': '2', 'C2': '5', 'C3': '3', 'C4': '4', 'C5': '1'}, {'C1': '1', 'C2': '4', 'C3': '5', 'C4': '3', 'C5': '2'}, {'C1': '1', 'C2': '5', 'C3': '3', 'C4': '4', 'C5': '2'}, {'C1': '1', 'C2': '4', 'C3': '5', 'C4': '3', 'C5': '2'}, {'C1': '1', 'C2': '3', 'C3': '4', 'C4': '5', 'C5': '2'}, {'C1': '3', 'C2': '2', 'C3': '1', 'C4': '5', 'C5': '4'}, {'C1': '3', 'C2': '5', 'C3': '1', 'C4': '4', 'C5': '2'}, {'C1': '2', 'C2': '4', 'C3': '3', 'C4': '5', 'C5': '1'}, {'C1': '2', 'C2': '3', 'C3': '5', 'C4': '1', 'C5': '4'}, {'C1': '2', 'C2': '4', 'C3': '5', 'C4': '1', 'C5': '3'}, {'C1': '3', 'C2': '1', 'C3': '5', 'C4': '2', 'C5': '4'}, {'C1': '2', 'C2': '5', 'C3': '4', 'C4': '3', 'C5': '1'}, {'C1': '2', 'C2': '5', 'C3': '3', 'C4': '4', 'C5': '1'}, {'C1': '2', 'C2': '1', 'C3': '4', 'C4': '5', 'C5': '3'}, {'C1': '1', 'C2': '4', 'C3': '5', 'C4': '3', 'C5': '2'}, {'C1': '3', 'C2': '5', 'C3': '1', 'C4': '4', 'C5': '2'}, {'C1': '3', 'C2': '4', 'C3': '1', 'C4': '5', 'C5': '2'}, {'C1': '2', 'C2': '5', 'C3': '3', 'C4': '4', 'C5': '1'}, {'C1': '3', 'C2': '2', 'C3': '5', 'C4': '1', 'C5': '4'}, {'C1': '2', 'C2': '5', 'C3': '3', 'C4': '4', 'C5': '1'}, {'C1': '2', 'C2': '1', 'C3': '5', 'C4': '4', 'C5': '3'}, {'C1': '1', 'C2': '3', 'C3': '4', 'C4': '5', 'C5': '2'}, {'C1': '3', 'C2': '1', 'C3': '5', 'C4': '2', 'C5': '4'}, {'C1': '2', 'C2': '5', 'C3': '4', 'C4': '3', 'C5': '1'}, {'C1': '3', 'C2': '1', 'C3': '5', 'C4': '2', 'C5': '4'}, {'C1': '3', 'C2': '5', 'C3': '2', 'C4': '4', 'C5': '1'}, {'C1': '2', 'C2': '4', 'C3': '1', 'C4': '5', 'C5': '3'}, {'C1': '1', 'C2': '4', 'C3': '5', 'C4': '3', 'C5': '2'}, {'C1': '2', 'C2': '5', 'C3': '3', 'C4': '4', 'C5': '1'}, {'C1': '3', 'C2': '5', 'C3': '1', 'C4': '4', 'C5': '2'}, {'C1': '1', 'C2': '4', 'C3': '3', 'C4': '5', 'C5': '2'}, {'C1': '3', 'C2': '4', 'C3': '1', 'C4': '5', 'C5': '2'}, {'C1': '1', 'C2': '3', 'C3': '5', 'C4': '4', 'C5': '2'}, {'C1': '2', 'C2': '5', 'C3': '4', 'C4': '3', 'C5': '1'}, {'C1': '2', 'C2': '1', 'C3': '5', 'C4': '4', 'C5': '3'}, {'C1': '3', 'C2': '5', 'C3': '1', 'C4': '4', 'C5': '2'}, {'C1': '3', 'C2': '1', 'C3': '5', 'C4': '2', 'C5': '4'}, {'C1': '3', 'C2': '4', 'C3': '1', 'C4': '5', 'C5': '2'}, {'C1': '2', 'C2': '1', 'C3': '5', 'C4': '4', 'C5': '3'}, {'C1': '3', 'C2': '1', 'C3': '5', 'C4': '2', 'C5': '4'}, {'C1': '2', 'C2': '4', 'C3': '5', 'C4': '1', 'C5': '3'}, {'C1': '3', 'C2': '5', 'C3': '1', 'C4': '4', 'C5': '2'}, {'C1': '3', 'C2': '1', 'C3': '5', 'C4': '2', 'C5': '4'}, {'C1': '1', 'C2': '4', 'C3': '3', 'C4': '5', 'C5': '2'}, {'C1': '2', 'C2': '1', 'C3': '4', 'C4': '5', 'C5': '3'}, {'C1': '1', 'C2': '4', 'C3': '5', 'C4': '3', 'C5': '2'}, {'C1': '1', 'C2': '3', 'C3': '4', 'C4': '5', 'C5': '2'}, {'C1': '1', 'C2': '4', 'C3': '5', 'C4': '3', 'C5': '2'}, {'C1': '2', 'C2': '5', 'C3': '4', 'C4': '3', 'C5': '1'}, {'C1': '3', 'C2': '5', 'C3': '1', 'C4': '4', 'C5': '2'}, {'C1': '2', 'C2': '1', 'C3': '5', 'C4': '4', 'C5': '3'}, {'C1': '3', 'C2': '1', 'C3': '2', 'C4': '5', 'C5': '4'}, {'C1': '3', 'C2': '2', 'C3': '5', 'C4': '1', 'C5': '4'}, {'C1': '2', 'C2': '5', 'C3': '4', 'C4': '3', 'C5': '1'}, {'C1': '2', 'C2': '1', 'C3': '4', 'C4': '5', 'C5': '3'}, {'C1': '3', 'C2': '1', 'C3': '5', 'C4': '2', 'C5': '4'}, {'C1': '2', 'C2': '3', 'C3': '5', 'C4': '1', 'C5': '4'}, {'C1': '2', 'C2': '5', 'C3': '3', 'C4': '4', 'C5': '1'}, {'C1': '2', 'C2': '1', 'C3': '5', 'C4': '4', 'C5': '3'}, {'C1': '1', 'C2': '4', 'C3': '5', 'C4': '3', 'C5': '2'}, {'C1': '3', 'C2': '4', 'C3': '1', 'C4': '5', 'C5': '2'}, {'C1': '2', 'C2': '1', 'C3': '5', 'C4': '3', 'C5': '4'}, {'C1': '1', 'C2': '4', 'C3': '3', 'C4': '5', 'C5': '2'}, {'C1': '3', 'C2': '5', 'C3': '1', 'C4': '4', 'C5': '2'}, {'C1': '2', 'C2': '5', 'C3': '4', 'C4': '3', 'C5': '1'}, {'C1': '3', 'C2': '5', 'C3': '1', 'C4': '4', 'C5': '2'}, {'C1': '3', 'C2': '1', 'C3': '5', 'C4': '2', 'C5': '4'}, {'C1': '2', 'C2': '4', 'C3': '5', 'C4': '1', 'C5': '3'}, {'C1': '3', 'C2': '2', 'C3': '5', 'C4': '1', 'C5': '4'}, {'C1': '2', 'C2': '4', 'C3': '5', 'C4': '3', 'C5': '1'}, {'C1': '3', 'C2': '1', 'C3': '5', 'C4': '2', 'C5': '4'}, {'C1': '2', 'C2': '5', 'C3': '4', 'C4': '3', 'C5': '1'}, {'C1': '3', 'C2': '1', 'C3': '5', 'C4': '2', 'C5': '4'}, {'C1': '2', 'C2': '1', 'C3': '5', 'C4': '4', 'C5': '3'}, {'C1': '3', 'C2': '1', 'C3': '5', 'C4': '2', 'C5': '4'}, {'C1': '1', 'C2': '2', 'C3': '5', 'C4': '4', 'C5': '3'}, {'C1': '1', 'C2': '4', 'C3': '5', 'C4': '3', 'C5': '2'}, {'C1': '2', 'C2': '3', 'C3': '5', 'C4': '1', 'C5': '4'}, {'C1': '1', 'C2': '4', 'C3': '5', 'C4': '3', 'C5': '2'}, {'C1': '1', 'C2': '3', 'C3': '5', 'C4': '4', 'C5': '2'}, {'C1': '3', 'C2': '2', 'C3': '5', 'C4': '1', 'C5': '4'}, {'C1': '3', 'C2': '4', 'C3': '1', 'C4': '5', 'C5': '2'}]\n"
     ]
    },
    {
     "ename": "NameError",
     "evalue": "name 'tally_votes' is not defined",
     "output_type": "error",
     "traceback": [
      "\u001b[1;31m---------------------------------------------------------------------------\u001b[0m",
      "\u001b[1;31mNameError\u001b[0m                                 Traceback (most recent call last)",
      "\u001b[1;32m<ipython-input-23-4fe3934b85a6>\u001b[0m in \u001b[0;36m<module>\u001b[1;34m\u001b[0m\n\u001b[0;32m     37\u001b[0m     \u001b[1;32mreturn\u001b[0m \u001b[0mcandidates_and_votes\u001b[0m\u001b[1;33m,\u001b[0m \u001b[0melimination_orders\u001b[0m\u001b[1;33m,\u001b[0m \u001b[0mvoting_array\u001b[0m\u001b[1;33m\u001b[0m\u001b[1;33m\u001b[0m\u001b[0m\n\u001b[0;32m     38\u001b[0m \u001b[1;33m\u001b[0m\u001b[0m\n\u001b[1;32m---> 39\u001b[1;33m \u001b[0msetup\u001b[0m\u001b[1;33m(\u001b[0m\u001b[1;33m)\u001b[0m\u001b[1;33m\u001b[0m\u001b[1;33m\u001b[0m\u001b[0m\n\u001b[0m",
      "\u001b[1;32m<ipython-input-23-4fe3934b85a6>\u001b[0m in \u001b[0;36msetup\u001b[1;34m()\u001b[0m\n\u001b[0;32m     24\u001b[0m     \u001b[1;31m#do it in notebook instead, need to modularise this code\u001b[0m\u001b[1;33m\u001b[0m\u001b[1;33m\u001b[0m\u001b[1;33m\u001b[0m\u001b[0m\n\u001b[0;32m     25\u001b[0m     \u001b[0mprint\u001b[0m\u001b[1;33m(\u001b[0m\u001b[0mvoting_array\u001b[0m\u001b[1;33m)\u001b[0m\u001b[1;33m\u001b[0m\u001b[1;33m\u001b[0m\u001b[0m\n\u001b[1;32m---> 26\u001b[1;33m     \u001b[0mcandidates_and_votes\u001b[0m \u001b[1;33m=\u001b[0m \u001b[0mtally_votes\u001b[0m\u001b[1;33m(\u001b[0m\u001b[0mvoting_array\u001b[0m\u001b[1;33m,\u001b[0m \u001b[0mno_of_cand\u001b[0m\u001b[1;33m)\u001b[0m\u001b[1;33m\u001b[0m\u001b[1;33m\u001b[0m\u001b[0m\n\u001b[0m\u001b[0;32m     27\u001b[0m \u001b[1;33m\u001b[0m\u001b[0m\n\u001b[0;32m     28\u001b[0m     \u001b[1;31m# potential orders of elimination of candidates\u001b[0m\u001b[1;33m\u001b[0m\u001b[1;33m\u001b[0m\u001b[1;33m\u001b[0m\u001b[0m\n",
      "\u001b[1;31mNameError\u001b[0m: name 'tally_votes' is not defined"
     ]
    }
   ],
   "source": [
    "def setup():\n",
    "    \"\"\"setup()\n",
    "    Takes the number of candidates, current voter rankings and coalition size.\n",
    "    Creates a dictionary with the current votes for each candidate, and a list\n",
    "    of potential elimination orders.\"\"\"\n",
    "    no_of_cand = 4\n",
    "\n",
    "    # list of ordered votes that we already know about\n",
    "    \"\"\"voter1 = {\"A\":1, \"B\": 2, \"C\": 3, \"D\": 4}\n",
    "    voter2 = {\"A\":3, \"B\": 1, \"C\": 2, \"D\": 4}\n",
    "    voter3 = {\"A\":1, \"B\": 2, \"C\": 3, \"D\": 4}\n",
    "    voting_array = [voter1,voter2,voter3]\"\"\"\n",
    "    \n",
    "    voting_array = []\n",
    "    #read csv for list of ordered votes that we already know about\n",
    "    with open(\"Exports/Export1677156874.3548243.csv\",newline=\"\\n\") as file:\n",
    "        reader = csv.reader(file, delimiter=',')\n",
    "        candidates = [\"C1\",\"C2\",\"C3\",\"C4\",\"C5\"]\n",
    "        number_of_cands = len(candidates)\n",
    "        for row in reader:\n",
    "            Vote = dict(zip(candidates,row))\n",
    "            voting_array.append(Vote)\n",
    "            \n",
    "    voting_array.pop(0)#necessary to delete headers\n",
    "    \n",
    "    #do it in notebook instead, need to modularise this code\n",
    "    print(voting_array)\n",
    "    candidates_and_votes = tally_votes(voting_array, no_of_cand)\n",
    "\n",
    "    # potential orders of elimination of candidates\n",
    "    elimination_orders= []\n",
    "    # Get permutations of n-1 candidates\n",
    "    cand = list(candidates_and_votes.keys())\n",
    "    perms_of_candidates = permutations(cand[0:no_of_cand-1])\n",
    "    for i in perms_of_candidates:\n",
    "        x = list(i)+[cand[-1]]\n",
    "        elimination_orders.append(x)\n",
    "\n",
    "    return candidates_and_votes, elimination_orders, voting_array\n",
    "\n",
    "setup()"
   ]
  },
  {
   "cell_type": "code",
   "execution_count": null,
   "metadata": {},
   "outputs": [],
   "source": [
    "def tally_votes(v_array, no_of_cand):\n",
    "    # the candidates and the number of 1st choice votes they have\n",
    "    candidates_and_votes = {}\n",
    "\n",
    "    for i in range(65,65+no_of_cand):\n",
    "        candidates_and_votes[str(chr(i))] = 0\n",
    "    \n",
    "    # add each voter's current 1st choice to the voting_array\n",
    "    #print(voting_array)\n",
    "    for voter in v_array:\n",
    "        for key in voter:\n",
    "            if voter[key]==1:\n",
    "                candidates_and_votes[key]+=1\n",
    "    return(candidates_and_votes)"
   ]
  },
  {
   "cell_type": "code",
   "execution_count": null,
   "metadata": {},
   "outputs": [],
   "source": [
    "def remove_orders(unsuccesful_start):\n",
    "    elimination_orders_remove = []\n",
    "    k = len(unsuccesful_start) \n",
    "    copy = elimination_orders.copy()\n",
    "    for i in copy:\n",
    "        if i[0:k] == unsuccesful_start:\n",
    "            elimination_orders.remove(i)"
   ]
  },
  {
   "cell_type": "code",
   "execution_count": null,
   "metadata": {},
   "outputs": [],
   "source": [
    "def check_order(candidates_and_votes, ord, coalition_size, voting_array):\n",
    "    voting_array_c = voting_array.copy()\n",
    "    coalition_votes = []\n",
    "    coalition_store = []\n",
    "    dic__coalition_votes= []\n",
    "    eliminated_candidates = []\n",
    "    candidates_remaining = [\"A\", \"B\", \"C\", \"D\"]\n",
    "    for i in range(0,coalition_size):\n",
    "        coalition_votes.append([])\n",
    "    count = 1\n",
    "    # copy of candidates and votes\n",
    "    variable_votes = dict(candidates_and_votes)\n",
    "    for i in ord:\n",
    "        eliminated_candidates.append(i)\n",
    "        for j in ord[ord.index(i)+1:]:\n",
    "            # compute votes required for j to beat i\n",
    "            votes_req = int(variable_votes[i]) - int(variable_votes[j]) + 1\n",
    "            # check that difference is positive\n",
    "            if votes_req > 0:\n",
    "                if len(coalition_votes) >= votes_req: # check if coalition size >= votes required to make j beat i\n",
    "                    variable_votes[j] += votes_req\n",
    "                    # decrease the amount of votes we can maniplulate this round\n",
    "                    for c in range(0,votes_req):\n",
    "                        coalition_votes[0].append(j)\n",
    "                        coalition_store.append(coalition_votes[0])\n",
    "                        coalition_votes.remove(coalition_votes[0])\n",
    "\n",
    "                else:\n",
    "                    # coalition was too small\n",
    "                    remove_orders(eliminated_candidates)\n",
    "                    print(\"Elimination order is impossible\", ord)\n",
    "                    return \"fail\", \"fail\"\n",
    "                    #return [], ord\n",
    "        candidates_remaining.remove(i)\n",
    "        if count <= len(ord): # no point in doing the very last step of redistrbuting\n",
    "            for en, voter in enumerate(voting_array_c):\n",
    "                # Changes any first preference votes to the next available candidate in their preference order\n",
    "                if voter[i] == 1:\n",
    "                    voting_array_c[en] = {key: voter[key]-1 for key in voter}\n",
    "        \n",
    "                else:\n",
    "                    # Eliminate candidate i from everyone elses list   \n",
    "                    voting_array_c[en][i]=0                            \n",
    "                    for key, value in voter.items():\n",
    "                        if value > voter[i]:\n",
    "                            voting_array_c[en][key] += -1\n",
    "                count +=1\n",
    "        #print(coalition_store)\n",
    "        for b in coalition_store:\n",
    "            if list(set(b).intersection(set(candidates_remaining))) == []:\n",
    "                coalition_votes.insert(0,b)\n",
    "                coalition_store.remove(b)\n",
    "            # voters in coalitions next spot available to be filled\n",
    "            \n",
    "            \n",
    "    coalition_votes += coalition_store\n",
    "    #print(\"Successful Manipulation: \", ord)\n",
    "    for v in coalition_votes:\n",
    "        back_ord = ord[::-1]\n",
    "        dif = list(sorted(set(back_ord) - set(v), key=ord.index))\n",
    "        v += dif\n",
    "        dic__coalition_votes.append({key: value+1 for value, key in enumerate(v)})\n",
    "    return dic__coalition_votes, ord"
   ]
  },
  {
   "cell_type": "code",
   "execution_count": null,
   "metadata": {},
   "outputs": [],
   "source": [
    "def check_manipulation(votes_set, no_cand):\n",
    "    k = no_cand\n",
    "    all_votes = votes_set\n",
    "    # loop over number of eliminations (n-1 candidates)\n",
    "    for i in range(0,no_cand-1):\n",
    "        c_and_v = tally_votes(all_votes, k)\n",
    "        # needs changing to elimate all candidates with votes = 0 / minimum, and change to while loop (while not just one candidate left with none-zero votes - what if tie?)\n",
    "        if i == 0:\n",
    "            elim_cand = min(c_and_v, key=c_and_v.get)#get candidate with least 1st choice votess\n",
    "        else:\n",
    "            elim_cand = min(x for x in c_and_v if  c_and_v[x] != 0)\n",
    "\n",
    "        for en, vote_dict in enumerate(all_votes):\n",
    "            # Changes any first preference votes to the next available candidate in their preference order\n",
    "            if vote_dict[elim_cand] == 1:\n",
    "                all_votes[en] = {key: vote_dict[key]-1 for key in vote_dict}\n",
    "            else:\n",
    "                # Eliminate candidate i from everyone elses list\n",
    "                all_votes[en][elim_cand] = 0\n",
    "                for key, value in vote_dict.items():\n",
    "                    if value > vote_dict[elim_cand]:\n",
    "                        all_votes[en][key] += -1\n",
    "                  \n",
    "    c_and_v = tally_votes(all_votes, k)\n",
    "    #print(c_and_v,\"\\n\")\n",
    "\n",
    "    return (max(c_and_v, key=c_and_v.get))\n"
   ]
  },
  {
   "cell_type": "code",
   "execution_count": null,
   "metadata": {},
   "outputs": [],
   "source": [
    "#coalition_array = []\n",
    "candidates_and_votes, elimination_orders, voting_array = setup()\n",
    "coalition_size = 4\n",
    "\n",
    "for order in elimination_orders:\n",
    "    #print(order)\n",
    "    a,b = check_order(candidates_and_votes, order, coalition_size, voting_array)\n",
    "    #coalition_array.append([a,b])\n",
    "    if b != \"fail\":\n",
    "        y, yy, yyy = setup()\n",
    "        check_votes = yyy + a\n",
    "        #print(check_votes)\n",
    "        winner = check_manipulation(check_votes,4)\n",
    "        print(b, winner)"
   ]
  }
 ],
 "metadata": {
  "kernelspec": {
   "display_name": "Python 3",
   "language": "python",
   "name": "python3"
  },
  "language_info": {
   "codemirror_mode": {
    "name": "ipython",
    "version": 3
   },
   "file_extension": ".py",
   "mimetype": "text/x-python",
   "name": "python",
   "nbconvert_exporter": "python",
   "pygments_lexer": "ipython3",
   "version": "3.8.5"
  }
 },
 "nbformat": 4,
 "nbformat_minor": 5
}
