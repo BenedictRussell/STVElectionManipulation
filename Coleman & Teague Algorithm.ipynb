{
 "cells": [
  {
   "cell_type": "markdown",
   "metadata": {},
   "source": [
    "# Manipulation algorithm\n",
    "This notebook will apply Algorithm 1 to a given profile of voters and candidates. A notebook format is used to provide commentary and illustrate step-by-step the process in the algorithm. "
   ]
  },
  {
   "cell_type": "code",
   "execution_count": 1,
   "metadata": {},
   "outputs": [],
   "source": [
    "#Key package imports\n",
    "from itertools import permutations\n",
    "import spatialGeneration\n",
    "import itertools\n",
    "import csv\n",
    "import copy\n",
    "import math\n",
    "import matplotlib.pyplot as plt"
   ]
  },
  {
   "cell_type": "code",
   "execution_count": 2,
   "metadata": {},
   "outputs": [],
   "source": [
    "def setup():\n",
    "    \"\"\"setup()\n",
    "    Takes the number of candidates, current voter rankings and coalition size.\n",
    "    Creates a dictionary with the current votes for each candidate, and a list\n",
    "    of potential elimination orders.\"\"\"\n",
    "\n",
    "    # list of ordered votes that we already know about\n",
    "    \"\"\"voter1 = {\"A\":1, \"B\": 2, \"C\": 3, \"D\": 4}\n",
    "    voter2 = {\"A\":3, \"B\": 1, \"C\": 2, \"D\": 4}\n",
    "    voter3 = {\"A\":1, \"B\": 2, \"C\": 3, \"D\": 4}\n",
    "    voting_array = [voter1,voter2,voter3]\"\"\"\n",
    "    \n",
    "    voting_array = []\n",
    "    #read csv for list of ordered votes that we already know about\n",
    "    #with open(\"Exports/Export1678356411.497025.csv\",\"r\",newline='\\n') as file:\n",
    "    #    reader = csv.reader(file, delimiter=',')\n",
    "    #    candidates = next(reader)\n",
    "    #    #print(candidates)\n",
    "    #    number_of_cands = len(candidates)\n",
    "    #    for row in reader:\n",
    "            #print(row)\n",
    "    #        Vote = dict(zip(candidates,[int(i) for i in row]))\n",
    "    #        voting_array.append(Vote)\n",
    "            #print(voting_array)\n",
    "    voting_array = copy.deepcopy(gen_Ranking)\n",
    "    candidates = copy.deepcopy(gen_Candidates)\n",
    "    #voting_array.pop(0) #necessary to delete headers\n",
    "    #print(voting_array)\n",
    "    candidates_and_votes = tally_votes(voting_array, candidates)\n",
    "\n",
    "    # potential orders of elimination of candidates\n",
    "    elimination_orders= []\n",
    "    # Get permutations of n-1 candidates\n",
    "    cand = list(candidates_and_votes.keys())\n",
    "    perms_of_candidates = permutations(cand[0:len(candidates)-1])\n",
    "    for i in perms_of_candidates:\n",
    "        x = list(i)+[cand[-1]]\n",
    "        elimination_orders.append(x)\n",
    "    #print(\"orders: \",elimination_orders)\n",
    "    #print(candidates_and_votes,voting_array)\n",
    "    return candidates_and_votes, elimination_orders, voting_array, candidates"
   ]
  },
  {
   "cell_type": "code",
   "execution_count": 3,
   "metadata": {},
   "outputs": [],
   "source": [
    "def tally_votes(v_array, candidates):\n",
    "    # the candidates and the number of 1st choice votes they have\n",
    "    candidates_and_votes = {candidates[i]:0 for i in range(0,len(candidates))}\n",
    "    #print(candidates_and_votes)\n",
    "    \n",
    "    # add each voter's current 1st choice to the voting_array\n",
    "    #print(voting_array)\n",
    "    for voter in v_array:\n",
    "        #print(voter)\n",
    "        for key in voter:\n",
    "            if voter[key]==1:\n",
    "                candidates_and_votes[key]+=1\n",
    "    return(candidates_and_votes)"
   ]
  },
  {
   "cell_type": "code",
   "execution_count": 4,
   "metadata": {},
   "outputs": [],
   "source": [
    "def remove_orders(unsuccesful_start):\n",
    "    elimination_orders_remove = []\n",
    "    k = len(unsuccesful_start) \n",
    "    copy = elimination_orders.copy()\n",
    "    for i in copy:\n",
    "        if i[0:k] == unsuccesful_start:\n",
    "            elimination_orders.remove(i)"
   ]
  },
  {
   "cell_type": "code",
   "execution_count": 5,
   "metadata": {},
   "outputs": [],
   "source": [
    "def check_order(candidates_and_votes, order, col_size, voting_array, candidates):\n",
    "    coalition_size = copy.deepcopy(col_size)\n",
    "    voting_array_c = copy.deepcopy(voting_array)\n",
    "    #print(\"HERE\",candidates_and_votes)\n",
    "    coalition_votes = []\n",
    "    coalition_store = []\n",
    "    dic__coalition_votes = []\n",
    "    eliminated_candidates = []\n",
    "    candidates_remaining = copy.deepcopy(candidates)\n",
    "    for i in range(0,coalition_size):\n",
    "        coalition_votes.append([])\n",
    "    count = 1\n",
    "    # copy of candidates and votes\n",
    "    variable_votes = dict(candidates_and_votes)\n",
    "    for i in order:\n",
    "        eliminated_candidates.append(i)\n",
    "        for j in order[order.index(i)+1:]:\n",
    "            # compute votes required for j to beat i\n",
    "            votes_req = int(variable_votes[i]) - int(variable_votes[j]) + 1\n",
    "            # check that difference is positive\n",
    "            if votes_req > 0:\n",
    "                if len(coalition_votes) >= votes_req: # check if coalition size >= votes required to make j beat i\n",
    "                    variable_votes[j] += votes_req\n",
    "                    # decrease the amount of votes we can maniplulate this round\n",
    "                    for c in range(0,votes_req):\n",
    "                        coalition_votes[0].append(j)\n",
    "                        coalition_store.append(coalition_votes[0])\n",
    "                        coalition_votes.remove(coalition_votes[0])\n",
    "\n",
    "                else:\n",
    "                    # coalition was too small\n",
    "                    remove_orders(eliminated_candidates)\n",
    "                    #print(\"Elimination order is impossible\", order)\n",
    "                    return \"fail\",\"fail\"\n",
    "                    #return [], ord\n",
    "        candidates_remaining.remove(i)\n",
    "        if count <= len(order): # no point in doing the very last step of redistrbuting\n",
    "            for en, voter in enumerate(voting_array_c):\n",
    "                # Changes any first preference votes to the next available candidate in their preference order\n",
    "                if voter[i] == 1:\n",
    "                    voting_array_c[en] = {key: voter[key]-1 for key in voter}\n",
    "        \n",
    "                else:\n",
    "                    # Eliminate candidate i from everyone elses list   \n",
    "                    voting_array_c[en][i]=0                            \n",
    "                    for key, value in voter.items():\n",
    "                        \"\"\"\n",
    "                        print(\"i:\",i,\" \",type(i),\"\\n\",\n",
    "                              \"voter:\",voter,\" \",type(voter),\n",
    "                              \"key:\",key,\" \",type(key),\"\\n\",\n",
    "                              \"value:\",value, \" \", type(key))\"\"\"\n",
    "                        if int(value) > int(voter[i]):\n",
    "                            voting_array_c[en][key] += -1\n",
    "                count +=1\n",
    "        #print(coalition_store)\n",
    "        for b in coalition_store:\n",
    "            if list(set(b).intersection(set(candidates_remaining))) == []:\n",
    "                coalition_votes.insert(0,b)\n",
    "                coalition_store.remove(b)\n",
    "            # voters in coalitions next spot available to be filled\n",
    "            \n",
    "            \n",
    "    coalition_votes += coalition_store\n",
    "    #print(\"Successful Manipulation: \", ord)\n",
    "    for v in coalition_votes:\n",
    "        \n",
    "        back_ord = order[::-1]\n",
    "        #print(\"BACK ORD:\",back_ord)\n",
    "        dif = list(sorted(set(back_ord) - set(v), key=order.index))\n",
    "        #print(\"V:\",v)\n",
    "        v += dif[::-1]\n",
    "        #print(\"V+dif:\",v)\n",
    "        #print(\"NEW DICT:\",{key: value+1 for value, key in enumerate(v)})\n",
    "        dic__coalition_votes.append({key: value+1 for value, key in enumerate(v)})\n",
    "        #print(order)\n",
    "        #print({key: value+1 for value, key in enumerate(v)})\n",
    "    return dic__coalition_votes, order"
   ]
  },
  {
   "cell_type": "code",
   "execution_count": 6,
   "metadata": {},
   "outputs": [],
   "source": [
    "def check_manipulation(votes, k, candidates):\n",
    "    all_votes = votes\n",
    "    #print(\"CHECK MANIPULATION OF: \")\n",
    "    # loop over number of eliminations (n-1 candidates)\n",
    "    for i in range(0,k-1):\n",
    "        #print(candidates)\n",
    "        c_and_v = tally_votes(all_votes, candidates)\n",
    "        #print(\"\\n c_and_v: \",c_and_v)\n",
    "        # there can't be ties by construction \n",
    "        # needs changing to elimate all candidates with votes = 0 / minimum, and change to while loop (while not just one candidate left with none-zero votes - what if tie?)\n",
    "        if i == 0:\n",
    "            elim_cand = min(c_and_v, key=c_and_v.get) #get candidate with least 1st choice votess\n",
    "        else:\n",
    "            elim_cand = min(x for x in c_and_v if  c_and_v[x] != 0)\n",
    "        for en, vote_dict in enumerate(all_votes):\n",
    "            #print(\"before\", vote_dict)\n",
    "            #print(elim_cand)\n",
    "            # Changes any first preference votes to the next available candidate in their preference order\n",
    "            if vote_dict[elim_cand] == 1:\n",
    "                all_votes[en] = {key: vote_dict[key]-1 for key in vote_dict}\n",
    "                all_votes[en].pop(elim_cand)\n",
    "            else:\n",
    "                # Eliminate candidate i from everyone elses list\n",
    "                #all_votes[en][elim_cand] = 0\n",
    "                for key, value in vote_dict.items():\n",
    "                    if value > vote_dict[elim_cand]:\n",
    "                        all_votes[en][key] += -1\n",
    "                all_votes[en].pop(elim_cand)\n",
    "           # print(\"after\", all_votes[en])\n",
    "        candidates.remove(elim_cand)\n",
    "    #print(\"CANDIDATES\",candidates)\n",
    "    c_and_v = tally_votes(all_votes, candidates)\n",
    "    #print(\"\\n c_and_v: \",c_and_v)  \n",
    "    #print(c_and_v,\"\\n\")\n",
    "\n",
    "    return (max(c_and_v, key=c_and_v.get))\n"
   ]
  },
  {
   "cell_type": "code",
   "execution_count": 7,
   "metadata": {},
   "outputs": [],
   "source": [
    "#setup()"
   ]
  },
  {
   "cell_type": "code",
   "execution_count": 8,
   "metadata": {
    "scrolled": false
   },
   "outputs": [],
   "source": [
    "#coalition_array = []\n",
    "#candidates_and_votes, elimination_orders, voting_array,candidates = setup()\n",
    "#coalition_size = 2000\n",
    "\n",
    "#for order in elimination_orders:\n",
    "#    a,b = check_order(candidates_and_votes, order, coalition_size, voting_array,candidates)\n",
    "#    #print(\"a: \",a)\n",
    "#    #print(\"b: \",b)\n",
    "#    #coalition_array.append([a,b])\n",
    "#    if b != \"fail\":\n",
    "#        y, yy, yyy,yyyy = setup()\n",
    "#        check_votes = yyy + a\n",
    "#       winner = check_manipulation(check_votes,len(yyyy),yyyy)\n",
    "#        print(b, winner)"
   ]
  },
  {
   "cell_type": "code",
   "execution_count": 9,
   "metadata": {},
   "outputs": [],
   "source": [
    "#gen_Ranking,gen_Candidates = spatialGeneration.returnRankings(5,100)"
   ]
  },
  {
   "cell_type": "code",
   "execution_count": null,
   "metadata": {},
   "outputs": [],
   "source": []
  },
  {
   "cell_type": "markdown",
   "metadata": {},
   "source": [
    "### Varying K"
   ]
  },
  {
   "cell_type": "code",
   "execution_count": 20,
   "metadata": {},
   "outputs": [],
   "source": [
    "gen_Ranking, gen_Candidates = spatialGeneration.returnRankings(10,100)"
   ]
  },
  {
   "cell_type": "code",
   "execution_count": 21,
   "metadata": {},
   "outputs": [],
   "source": [
    "candidates_and_votes, elimination_orders, va, candidates = setup()\n",
    "#coalition_size = 490\n",
    "#MR = 0\n",
    "def Cal_MR_K(col):\n",
    "    MR = 0\n",
    "    candidates_and_votes, elimination_orders, va, candidates = setup()\n",
    "    for order in elimination_orders:\n",
    "        a,b = check_order(candidates_and_votes, order, col, va, gen_Candidates)\n",
    "        if a != \"fail\":\n",
    "            MR += 1\n",
    "    return MR/(math.factorial(len(gen_Candidates)-1))"
   ]
  },
  {
   "cell_type": "code",
   "execution_count": null,
   "metadata": {},
   "outputs": [
    {
     "name": "stdout",
     "output_type": "stream",
     "text": [
      "362880\n"
     ]
    }
   ],
   "source": [
    "print(math.factorial(len(gen_Candidates)-1))\n",
    "\n",
    "store = []\n",
    "for r in range(0,80):\n",
    "    #candidates_and_votes, elimination_orders, va, candidates = setup()\n",
    "    store.append(Cal_MR_K(r))\n",
    "#print(elimination_orders)\n",
    "plt.plot(range(0,80),store)\n",
    "plt.show()"
   ]
  }
 ],
 "metadata": {
  "kernelspec": {
   "display_name": "Python 3",
   "language": "python",
   "name": "python3"
  },
  "language_info": {
   "codemirror_mode": {
    "name": "ipython",
    "version": 3
   },
   "file_extension": ".py",
   "mimetype": "text/x-python",
   "name": "python",
   "nbconvert_exporter": "python",
   "pygments_lexer": "ipython3",
   "version": "3.8.5"
  }
 },
 "nbformat": 4,
 "nbformat_minor": 5
}
