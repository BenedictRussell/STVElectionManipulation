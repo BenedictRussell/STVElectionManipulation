{
 "cells": [
  {
   "cell_type": "code",
   "execution_count": 11,
   "metadata": {},
   "outputs": [],
   "source": [
    "#Setup\n",
    "import random\n",
    "import numpy as np\n",
    "import matplotlib.pyplot as plt\n",
    "\n",
    "R = 2\n",
    "D = 2\n",
    "C = 6\n",
    "\n",
    "GridSize = 1000"
   ]
  },
  {
   "cell_type": "code",
   "execution_count": 12,
   "metadata": {},
   "outputs": [],
   "source": [
    "def GenerateRandomPosition_UNIFORM(GridSize):\n",
    "    X = random.uniform(-GridSize,GridSize)\n",
    "    Y = random.uniform(-GridSize,GridSize)\n",
    "    return (X,Y)"
   ]
  },
  {
   "cell_type": "code",
   "execution_count": 16,
   "metadata": {},
   "outputs": [
    {
     "name": "stdout",
     "output_type": "stream",
     "text": [
      "[[ 134.60153858  291.66859811]\n",
      " [ 393.80513696 -551.692238  ]\n",
      " [-688.59682639  851.00428038]\n",
      " [ 562.95907737 -614.0230476 ]\n",
      " [ 595.09130346  550.90204397]\n",
      " [ 625.87620396  611.59927427]]\n"
     ]
    },
    {
     "data": {
      "image/png": "[encoded data removed]",
      "text/plain": [
       "<Figure size 576x576 with 1 Axes>"
      ]
     },
     "metadata": {
      "needs_background": "light"
     },
     "output_type": "display_data"
    }
   ],
   "source": [
    "CLocs = np.array([GenerateRandomPosition_UNIFORM(GridSize) for i in range(0,C)])\n",
    "RLocs = np.array([GenerateRandomPosition_UNIFORM(GridSize) for i in range(0,R)])\n",
    "DLocs = np.array([GenerateRandomPosition_UNIFORM(GridSize) for i in range(0,D)])\n",
    "plt.figure(figsize=(8,8))\n",
    "plt.xlim([-GridSize,GridSize])\n",
    "plt.ylim([-GridSize,GridSize])\n",
    "for i in range(0,C): \n",
    "    plt.plot(CLocs[i][0],CLocs[i][1],'ro')\n",
    "for k in range(0,R):\n",
    "    plt.plot(RLocs[k][0],RLocs[k][1],'g.')\n",
    "for j in range(0,D):\n",
    "    plt.plot(DLocs[j][0],DLocs[j][1],'b.')"
   ]
  },
  {
   "cell_type": "code",
   "execution_count": 53,
   "metadata": {},
   "outputs": [],
   "source": [
    "C_to_DandR = np.zeros(shape=(C,(D+R)))\n",
    "for c in range(C):\n",
    "    a = [np.linalg.norm(DLocs[k]-CLocs[c]) for k in range(D)]\n",
    "    b = [np.linalg.norm(RLocs[m]-CLocs[c]) for m in range(R)]\n",
    "    C_to_DandR[c] = a+b\n",
    "    \n",
    "D_to_DandR = np.zeros(shape=(D,D+R))\n",
    "R_to_DandR = np.zeros(shape=(R,D+R))\n",
    "for m in range(D):\n",
    "    a = [np.linalg.norm(DLocs[k]-DLocs[m]) for k in range(D)]\n",
    "    b = [np.linalg.norm(RLocs[k]-DLocs[m]) for k in range(R)]\n",
    "    D_to_DandR [m] = a+b\n",
    "for m in range(R):\n",
    "    a = [np.linalg.norm(DLocs[k]-RLocs[m]) for k in range(D)]\n",
    "    b = [np.linalg.norm(RLocs[k]-RLocs[m]) for k in range(R)]\n",
    "    R_to_DandR[m] = a+b\n",
    "DandR_to_DandR = np.concatenate((D_to_DandR, R_to_DandR))"
   ]
  },
  {
   "cell_type": "code",
   "execution_count": null,
   "metadata": {},
   "outputs": [],
   "source": [
    "import csv\n",
    "csv_columns = [\"C\"+str(i) for i in range(1,C+1)]\n",
    "csv_file = \"Exports/Export\"+str(time.time())+\".csv\"\n",
    "with open(csv_file, 'w') as csvfile:\n",
    "    writer = csv.DictWriter(csvfile, fieldnames=csv_columns)\n",
    "    writer.writeheader()\n",
    "    for data in Rankings:\n",
    "        writer.writerow(data)"
   ]
  }
 ],
 "metadata": {
  "kernelspec": {
   "display_name": "Python 3",
   "language": "python",
   "name": "python3"
  },
  "language_info": {
   "codemirror_mode": {
    "name": "ipython",
    "version": 3
   },
   "file_extension": ".py",
   "mimetype": "text/x-python",
   "name": "python",
   "nbconvert_exporter": "python",
   "pygments_lexer": "ipython3",
   "version": "3.8.5"
  }
 },
 "nbformat": 4,
 "nbformat_minor": 4
}
